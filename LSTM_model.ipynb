{
 "cells": [
  {
   "cell_type": "code",
   "execution_count": 1,
   "metadata": {},
   "outputs": [],
   "source": [
    "# !pip install --upgrade pandas-datareader"
   ]
  },
  {
   "cell_type": "code",
   "execution_count": null,
   "metadata": {},
   "outputs": [],
   "source": []
  },
  {
   "cell_type": "code",
   "execution_count": 2,
   "metadata": {},
   "outputs": [],
   "source": [
    "import numpy as np\n",
    "import pandas as pd\n",
    "import matplotlib.pyplot as plt\n",
    "from  pandas_datareader import data\n",
    "import yfinance as yfin\n"
   ]
  },
  {
   "cell_type": "code",
   "execution_count": 3,
   "metadata": {},
   "outputs": [],
   "source": [
    "#yf.pdr_override()\n",
    "# !pip install yfinance --upgrade --no-cache-dir"
   ]
  },
  {
   "cell_type": "code",
   "execution_count": 4,
   "metadata": {},
   "outputs": [
    {
     "name": "stdout",
     "output_type": "stream",
     "text": [
      "[*********************100%***********************]  1 of 1 completed\n"
     ]
    }
   ],
   "source": [
    "start = '2005-01-01'\n",
    "end = '2023-02-24'\n",
    "\n",
    "yfin.pdr_override()\n",
    "\n",
    "df = data.DataReader('AAPL' ,start,end)\n"
   ]
  },
  {
   "cell_type": "code",
   "execution_count": 5,
   "metadata": {},
   "outputs": [
    {
     "data": {
      "text/html": [
       "<div>\n",
       "<style scoped>\n",
       "    .dataframe tbody tr th:only-of-type {\n",
       "        vertical-align: middle;\n",
       "    }\n",
       "\n",
       "    .dataframe tbody tr th {\n",
       "        vertical-align: top;\n",
       "    }\n",
       "\n",
       "    .dataframe thead th {\n",
       "        text-align: right;\n",
       "    }\n",
       "</style>\n",
       "<table border=\"1\" class=\"dataframe\">\n",
       "  <thead>\n",
       "    <tr style=\"text-align: right;\">\n",
       "      <th></th>\n",
       "      <th>Open</th>\n",
       "      <th>High</th>\n",
       "      <th>Low</th>\n",
       "      <th>Close</th>\n",
       "      <th>Adj Close</th>\n",
       "      <th>Volume</th>\n",
       "    </tr>\n",
       "    <tr>\n",
       "      <th>Date</th>\n",
       "      <th></th>\n",
       "      <th></th>\n",
       "      <th></th>\n",
       "      <th></th>\n",
       "      <th></th>\n",
       "      <th></th>\n",
       "    </tr>\n",
       "  </thead>\n",
       "  <tbody>\n",
       "    <tr>\n",
       "      <th>2023-02-16</th>\n",
       "      <td>153.509995</td>\n",
       "      <td>156.330002</td>\n",
       "      <td>153.350006</td>\n",
       "      <td>153.710007</td>\n",
       "      <td>153.710007</td>\n",
       "      <td>68167900</td>\n",
       "    </tr>\n",
       "    <tr>\n",
       "      <th>2023-02-17</th>\n",
       "      <td>152.350006</td>\n",
       "      <td>153.000000</td>\n",
       "      <td>150.850006</td>\n",
       "      <td>152.550003</td>\n",
       "      <td>152.550003</td>\n",
       "      <td>59095900</td>\n",
       "    </tr>\n",
       "    <tr>\n",
       "      <th>2023-02-21</th>\n",
       "      <td>150.199997</td>\n",
       "      <td>151.300003</td>\n",
       "      <td>148.410004</td>\n",
       "      <td>148.479996</td>\n",
       "      <td>148.479996</td>\n",
       "      <td>58867200</td>\n",
       "    </tr>\n",
       "    <tr>\n",
       "      <th>2023-02-22</th>\n",
       "      <td>148.869995</td>\n",
       "      <td>149.949997</td>\n",
       "      <td>147.160004</td>\n",
       "      <td>148.910004</td>\n",
       "      <td>148.910004</td>\n",
       "      <td>51011300</td>\n",
       "    </tr>\n",
       "    <tr>\n",
       "      <th>2023-02-23</th>\n",
       "      <td>150.089996</td>\n",
       "      <td>150.339996</td>\n",
       "      <td>147.240005</td>\n",
       "      <td>149.399994</td>\n",
       "      <td>149.399994</td>\n",
       "      <td>48394200</td>\n",
       "    </tr>\n",
       "  </tbody>\n",
       "</table>\n",
       "</div>"
      ],
      "text/plain": [
       "                  Open        High         Low       Close   Adj Close  \\\n",
       "Date                                                                     \n",
       "2023-02-16  153.509995  156.330002  153.350006  153.710007  153.710007   \n",
       "2023-02-17  152.350006  153.000000  150.850006  152.550003  152.550003   \n",
       "2023-02-21  150.199997  151.300003  148.410004  148.479996  148.479996   \n",
       "2023-02-22  148.869995  149.949997  147.160004  148.910004  148.910004   \n",
       "2023-02-23  150.089996  150.339996  147.240005  149.399994  149.399994   \n",
       "\n",
       "              Volume  \n",
       "Date                  \n",
       "2023-02-16  68167900  \n",
       "2023-02-17  59095900  \n",
       "2023-02-21  58867200  \n",
       "2023-02-22  51011300  \n",
       "2023-02-23  48394200  "
      ]
     },
     "execution_count": 5,
     "metadata": {},
     "output_type": "execute_result"
    }
   ],
   "source": [
    "df.tail()"
   ]
  },
  {
   "cell_type": "code",
   "execution_count": 6,
   "metadata": {},
   "outputs": [
    {
     "data": {
      "text/html": [
       "<div>\n",
       "<style scoped>\n",
       "    .dataframe tbody tr th:only-of-type {\n",
       "        vertical-align: middle;\n",
       "    }\n",
       "\n",
       "    .dataframe tbody tr th {\n",
       "        vertical-align: top;\n",
       "    }\n",
       "\n",
       "    .dataframe thead th {\n",
       "        text-align: right;\n",
       "    }\n",
       "</style>\n",
       "<table border=\"1\" class=\"dataframe\">\n",
       "  <thead>\n",
       "    <tr style=\"text-align: right;\">\n",
       "      <th></th>\n",
       "      <th>Date</th>\n",
       "      <th>Open</th>\n",
       "      <th>High</th>\n",
       "      <th>Low</th>\n",
       "      <th>Close</th>\n",
       "      <th>Adj Close</th>\n",
       "      <th>Volume</th>\n",
       "    </tr>\n",
       "  </thead>\n",
       "  <tbody>\n",
       "    <tr>\n",
       "      <th>0</th>\n",
       "      <td>2005-01-03</td>\n",
       "      <td>1.156786</td>\n",
       "      <td>1.162679</td>\n",
       "      <td>1.117857</td>\n",
       "      <td>1.130179</td>\n",
       "      <td>0.961916</td>\n",
       "      <td>691992000</td>\n",
       "    </tr>\n",
       "    <tr>\n",
       "      <th>1</th>\n",
       "      <td>2005-01-04</td>\n",
       "      <td>1.139107</td>\n",
       "      <td>1.169107</td>\n",
       "      <td>1.124464</td>\n",
       "      <td>1.141786</td>\n",
       "      <td>0.971795</td>\n",
       "      <td>1096810400</td>\n",
       "    </tr>\n",
       "    <tr>\n",
       "      <th>2</th>\n",
       "      <td>2005-01-05</td>\n",
       "      <td>1.151071</td>\n",
       "      <td>1.165179</td>\n",
       "      <td>1.143750</td>\n",
       "      <td>1.151786</td>\n",
       "      <td>0.980306</td>\n",
       "      <td>680433600</td>\n",
       "    </tr>\n",
       "    <tr>\n",
       "      <th>3</th>\n",
       "      <td>2005-01-06</td>\n",
       "      <td>1.154821</td>\n",
       "      <td>1.159107</td>\n",
       "      <td>1.130893</td>\n",
       "      <td>1.152679</td>\n",
       "      <td>0.981066</td>\n",
       "      <td>705555200</td>\n",
       "    </tr>\n",
       "    <tr>\n",
       "      <th>4</th>\n",
       "      <td>2005-01-07</td>\n",
       "      <td>1.160714</td>\n",
       "      <td>1.243393</td>\n",
       "      <td>1.156250</td>\n",
       "      <td>1.236607</td>\n",
       "      <td>1.052499</td>\n",
       "      <td>2227450400</td>\n",
       "    </tr>\n",
       "  </tbody>\n",
       "</table>\n",
       "</div>"
      ],
      "text/plain": [
       "        Date      Open      High       Low     Close  Adj Close      Volume\n",
       "0 2005-01-03  1.156786  1.162679  1.117857  1.130179   0.961916   691992000\n",
       "1 2005-01-04  1.139107  1.169107  1.124464  1.141786   0.971795  1096810400\n",
       "2 2005-01-05  1.151071  1.165179  1.143750  1.151786   0.980306   680433600\n",
       "3 2005-01-06  1.154821  1.159107  1.130893  1.152679   0.981066   705555200\n",
       "4 2005-01-07  1.160714  1.243393  1.156250  1.236607   1.052499  2227450400"
      ]
     },
     "execution_count": 6,
     "metadata": {},
     "output_type": "execute_result"
    }
   ],
   "source": [
    "df = df.reset_index()\n",
    "df.head()"
   ]
  },
  {
   "cell_type": "code",
   "execution_count": 7,
   "metadata": {},
   "outputs": [
    {
     "data": {
      "text/html": [
       "<div>\n",
       "<style scoped>\n",
       "    .dataframe tbody tr th:only-of-type {\n",
       "        vertical-align: middle;\n",
       "    }\n",
       "\n",
       "    .dataframe tbody tr th {\n",
       "        vertical-align: top;\n",
       "    }\n",
       "\n",
       "    .dataframe thead th {\n",
       "        text-align: right;\n",
       "    }\n",
       "</style>\n",
       "<table border=\"1\" class=\"dataframe\">\n",
       "  <thead>\n",
       "    <tr style=\"text-align: right;\">\n",
       "      <th></th>\n",
       "      <th>Open</th>\n",
       "      <th>High</th>\n",
       "      <th>Low</th>\n",
       "      <th>Close</th>\n",
       "      <th>Volume</th>\n",
       "    </tr>\n",
       "  </thead>\n",
       "  <tbody>\n",
       "    <tr>\n",
       "      <th>0</th>\n",
       "      <td>1.156786</td>\n",
       "      <td>1.162679</td>\n",
       "      <td>1.117857</td>\n",
       "      <td>1.130179</td>\n",
       "      <td>691992000</td>\n",
       "    </tr>\n",
       "    <tr>\n",
       "      <th>1</th>\n",
       "      <td>1.139107</td>\n",
       "      <td>1.169107</td>\n",
       "      <td>1.124464</td>\n",
       "      <td>1.141786</td>\n",
       "      <td>1096810400</td>\n",
       "    </tr>\n",
       "    <tr>\n",
       "      <th>2</th>\n",
       "      <td>1.151071</td>\n",
       "      <td>1.165179</td>\n",
       "      <td>1.143750</td>\n",
       "      <td>1.151786</td>\n",
       "      <td>680433600</td>\n",
       "    </tr>\n",
       "    <tr>\n",
       "      <th>3</th>\n",
       "      <td>1.154821</td>\n",
       "      <td>1.159107</td>\n",
       "      <td>1.130893</td>\n",
       "      <td>1.152679</td>\n",
       "      <td>705555200</td>\n",
       "    </tr>\n",
       "    <tr>\n",
       "      <th>4</th>\n",
       "      <td>1.160714</td>\n",
       "      <td>1.243393</td>\n",
       "      <td>1.156250</td>\n",
       "      <td>1.236607</td>\n",
       "      <td>2227450400</td>\n",
       "    </tr>\n",
       "  </tbody>\n",
       "</table>\n",
       "</div>"
      ],
      "text/plain": [
       "       Open      High       Low     Close      Volume\n",
       "0  1.156786  1.162679  1.117857  1.130179   691992000\n",
       "1  1.139107  1.169107  1.124464  1.141786  1096810400\n",
       "2  1.151071  1.165179  1.143750  1.151786   680433600\n",
       "3  1.154821  1.159107  1.130893  1.152679   705555200\n",
       "4  1.160714  1.243393  1.156250  1.236607  2227450400"
      ]
     },
     "execution_count": 7,
     "metadata": {},
     "output_type": "execute_result"
    }
   ],
   "source": [
    "df = df.drop(['Date','Adj Close'], axis = 1)\n",
    "df.head()"
   ]
  },
  {
   "cell_type": "code",
   "execution_count": 8,
   "metadata": {},
   "outputs": [
    {
     "data": {
      "text/plain": [
       "[<matplotlib.lines.Line2D at 0x7efc1ab20d30>]"
      ]
     },
     "execution_count": 8,
     "metadata": {},
     "output_type": "execute_result"
    },
    {
     "data": {
      "image/png": "[encoded data removed]",
      "text/plain": [
       "<Figure size 640x480 with 1 Axes>"
      ]
     },
     "metadata": {},
     "output_type": "display_data"
    }
   ],
   "source": [
    "plt.plot(df.Close)"
   ]
  },
  {
   "cell_type": "code",
   "execution_count": 9,
   "metadata": {},
   "outputs": [
    {
     "data": {
      "text/html": [
       "<div>\n",
       "<style scoped>\n",
       "    .dataframe tbody tr th:only-of-type {\n",
       "        vertical-align: middle;\n",
       "    }\n",
       "\n",
       "    .dataframe tbody tr th {\n",
       "        vertical-align: top;\n",
       "    }\n",
       "\n",
       "    .dataframe thead th {\n",
       "        text-align: right;\n",
       "    }\n",
       "</style>\n",
       "<table border=\"1\" class=\"dataframe\">\n",
       "  <thead>\n",
       "    <tr style=\"text-align: right;\">\n",
       "      <th></th>\n",
       "      <th>Open</th>\n",
       "      <th>High</th>\n",
       "      <th>Low</th>\n",
       "      <th>Close</th>\n",
       "      <th>Volume</th>\n",
       "    </tr>\n",
       "  </thead>\n",
       "  <tbody>\n",
       "    <tr>\n",
       "      <th>0</th>\n",
       "      <td>1.156786</td>\n",
       "      <td>1.162679</td>\n",
       "      <td>1.117857</td>\n",
       "      <td>1.130179</td>\n",
       "      <td>691992000</td>\n",
       "    </tr>\n",
       "    <tr>\n",
       "      <th>1</th>\n",
       "      <td>1.139107</td>\n",
       "      <td>1.169107</td>\n",
       "      <td>1.124464</td>\n",
       "      <td>1.141786</td>\n",
       "      <td>1096810400</td>\n",
       "    </tr>\n",
       "    <tr>\n",
       "      <th>2</th>\n",
       "      <td>1.151071</td>\n",
       "      <td>1.165179</td>\n",
       "      <td>1.143750</td>\n",
       "      <td>1.151786</td>\n",
       "      <td>680433600</td>\n",
       "    </tr>\n",
       "    <tr>\n",
       "      <th>3</th>\n",
       "      <td>1.154821</td>\n",
       "      <td>1.159107</td>\n",
       "      <td>1.130893</td>\n",
       "      <td>1.152679</td>\n",
       "      <td>705555200</td>\n",
       "    </tr>\n",
       "    <tr>\n",
       "      <th>4</th>\n",
       "      <td>1.160714</td>\n",
       "      <td>1.243393</td>\n",
       "      <td>1.156250</td>\n",
       "      <td>1.236607</td>\n",
       "      <td>2227450400</td>\n",
       "    </tr>\n",
       "    <tr>\n",
       "      <th>...</th>\n",
       "      <td>...</td>\n",
       "      <td>...</td>\n",
       "      <td>...</td>\n",
       "      <td>...</td>\n",
       "      <td>...</td>\n",
       "    </tr>\n",
       "    <tr>\n",
       "      <th>4562</th>\n",
       "      <td>153.509995</td>\n",
       "      <td>156.330002</td>\n",
       "      <td>153.350006</td>\n",
       "      <td>153.710007</td>\n",
       "      <td>68167900</td>\n",
       "    </tr>\n",
       "    <tr>\n",
       "      <th>4563</th>\n",
       "      <td>152.350006</td>\n",
       "      <td>153.000000</td>\n",
       "      <td>150.850006</td>\n",
       "      <td>152.550003</td>\n",
       "      <td>59095900</td>\n",
       "    </tr>\n",
       "    <tr>\n",
       "      <th>4564</th>\n",
       "      <td>150.199997</td>\n",
       "      <td>151.300003</td>\n",
       "      <td>148.410004</td>\n",
       "      <td>148.479996</td>\n",
       "      <td>58867200</td>\n",
       "    </tr>\n",
       "    <tr>\n",
       "      <th>4565</th>\n",
       "      <td>148.869995</td>\n",
       "      <td>149.949997</td>\n",
       "      <td>147.160004</td>\n",
       "      <td>148.910004</td>\n",
       "      <td>51011300</td>\n",
       "    </tr>\n",
       "    <tr>\n",
       "      <th>4566</th>\n",
       "      <td>150.089996</td>\n",
       "      <td>150.339996</td>\n",
       "      <td>147.240005</td>\n",
       "      <td>149.399994</td>\n",
       "      <td>48394200</td>\n",
       "    </tr>\n",
       "  </tbody>\n",
       "</table>\n",
       "<p>4567 rows × 5 columns</p>\n",
       "</div>"
      ],
      "text/plain": [
       "            Open        High         Low       Close      Volume\n",
       "0       1.156786    1.162679    1.117857    1.130179   691992000\n",
       "1       1.139107    1.169107    1.124464    1.141786  1096810400\n",
       "2       1.151071    1.165179    1.143750    1.151786   680433600\n",
       "3       1.154821    1.159107    1.130893    1.152679   705555200\n",
       "4       1.160714    1.243393    1.156250    1.236607  2227450400\n",
       "...          ...         ...         ...         ...         ...\n",
       "4562  153.509995  156.330002  153.350006  153.710007    68167900\n",
       "4563  152.350006  153.000000  150.850006  152.550003    59095900\n",
       "4564  150.199997  151.300003  148.410004  148.479996    58867200\n",
       "4565  148.869995  149.949997  147.160004  148.910004    51011300\n",
       "4566  150.089996  150.339996  147.240005  149.399994    48394200\n",
       "\n",
       "[4567 rows x 5 columns]"
      ]
     },
     "execution_count": 9,
     "metadata": {},
     "output_type": "execute_result"
    }
   ],
   "source": [
    "df"
   ]
  },
  {
   "cell_type": "code",
   "execution_count": 10,
   "metadata": {},
   "outputs": [
    {
     "data": {
      "text/plain": [
       "0              NaN\n",
       "1              NaN\n",
       "2              NaN\n",
       "3              NaN\n",
       "4              NaN\n",
       "           ...    \n",
       "4562    142.790499\n",
       "4563    142.808299\n",
       "4564    142.775499\n",
       "4565    142.766199\n",
       "4566    142.835399\n",
       "Name: Close, Length: 4567, dtype: float64"
      ]
     },
     "execution_count": 10,
     "metadata": {},
     "output_type": "execute_result"
    }
   ],
   "source": [
    "ma100 = df.Close.rolling(100).mean()\n",
    "ma100"
   ]
  },
  {
   "cell_type": "code",
   "execution_count": 11,
   "metadata": {},
   "outputs": [
    {
     "data": {
      "text/plain": [
       "[<matplotlib.lines.Line2D at 0x7efc1a92a110>]"
      ]
     },
     "execution_count": 11,
     "metadata": {},
     "output_type": "execute_result"
    },
    {
     "data": {
      "image/png": "[encoded data removed]",
      "text/plain": [
       "<Figure size 1200x600 with 1 Axes>"
      ]
     },
     "metadata": {},
     "output_type": "display_data"
    }
   ],
   "source": [
    "plt.figure(figsize = (12,6))\n",
    "plt.plot(df.Close)\n",
    "plt.plot(ma100, 'r')"
   ]
  },
  {
   "cell_type": "code",
   "execution_count": 12,
   "metadata": {},
   "outputs": [
    {
     "data": {
      "text/plain": [
       "0             NaN\n",
       "1             NaN\n",
       "2             NaN\n",
       "3             NaN\n",
       "4             NaN\n",
       "          ...    \n",
       "4562    147.42840\n",
       "4563    147.39375\n",
       "4564    147.30605\n",
       "4565    147.26675\n",
       "4566    147.22735\n",
       "Name: Close, Length: 4567, dtype: float64"
      ]
     },
     "execution_count": 12,
     "metadata": {},
     "output_type": "execute_result"
    }
   ],
   "source": [
    "ma200 = df.Close.rolling(200).mean()\n",
    "ma200"
   ]
  },
  {
   "cell_type": "code",
   "execution_count": 13,
   "metadata": {},
   "outputs": [
    {
     "data": {
      "text/plain": [
       "[<matplotlib.lines.Line2D at 0x7efc1a9b8490>]"
      ]
     },
     "execution_count": 13,
     "metadata": {},
     "output_type": "execute_result"
    },
    {
     "data": {
      "image/png": "[encoded data removed]",
      "text/plain": [
       "<Figure size 1200x600 with 1 Axes>"
      ]
     },
     "metadata": {},
     "output_type": "display_data"
    }
   ],
   "source": [
    "plt.figure(figsize = (12,6))\n",
    "plt.plot(df.Close)\n",
    "plt.plot(ma100, 'r')\n",
    "plt.plot(ma200, 'g')\n"
   ]
  },
  {
   "cell_type": "code",
   "execution_count": 14,
   "metadata": {},
   "outputs": [
    {
     "data": {
      "text/plain": [
       "(4567, 5)"
      ]
     },
     "execution_count": 14,
     "metadata": {},
     "output_type": "execute_result"
    }
   ],
   "source": [
    "df.shape"
   ]
  },
  {
   "cell_type": "code",
   "execution_count": 15,
   "metadata": {},
   "outputs": [
    {
     "name": "stdout",
     "output_type": "stream",
     "text": [
      "(3196, 1)\n",
      "(1371, 1)\n"
     ]
    }
   ],
   "source": [
    "# Splitting data\n",
    "\n",
    "data_training = pd.DataFrame(df['Close'][0:int(len(df)*0.70)])\n",
    "data_testing = pd.DataFrame(df['Close'][int(len(df)*0.70): int(len(df))])\n",
    "\n",
    "print(data_training.shape)\n",
    "print(data_testing.shape)"
   ]
  },
  {
   "cell_type": "code",
   "execution_count": 16,
   "metadata": {},
   "outputs": [
    {
     "data": {
      "text/html": [
       "<div>\n",
       "<style scoped>\n",
       "    .dataframe tbody tr th:only-of-type {\n",
       "        vertical-align: middle;\n",
       "    }\n",
       "\n",
       "    .dataframe tbody tr th {\n",
       "        vertical-align: top;\n",
       "    }\n",
       "\n",
       "    .dataframe thead th {\n",
       "        text-align: right;\n",
       "    }\n",
       "</style>\n",
       "<table border=\"1\" class=\"dataframe\">\n",
       "  <thead>\n",
       "    <tr style=\"text-align: right;\">\n",
       "      <th></th>\n",
       "      <th>Close</th>\n",
       "    </tr>\n",
       "  </thead>\n",
       "  <tbody>\n",
       "    <tr>\n",
       "      <th>0</th>\n",
       "      <td>1.130179</td>\n",
       "    </tr>\n",
       "    <tr>\n",
       "      <th>1</th>\n",
       "      <td>1.141786</td>\n",
       "    </tr>\n",
       "    <tr>\n",
       "      <th>2</th>\n",
       "      <td>1.151786</td>\n",
       "    </tr>\n",
       "    <tr>\n",
       "      <th>3</th>\n",
       "      <td>1.152679</td>\n",
       "    </tr>\n",
       "    <tr>\n",
       "      <th>4</th>\n",
       "      <td>1.236607</td>\n",
       "    </tr>\n",
       "  </tbody>\n",
       "</table>\n",
       "</div>"
      ],
      "text/plain": [
       "      Close\n",
       "0  1.130179\n",
       "1  1.141786\n",
       "2  1.151786\n",
       "3  1.152679\n",
       "4  1.236607"
      ]
     },
     "execution_count": 16,
     "metadata": {},
     "output_type": "execute_result"
    }
   ],
   "source": [
    "data_training.head()"
   ]
  },
  {
   "cell_type": "code",
   "execution_count": 17,
   "metadata": {},
   "outputs": [],
   "source": [
    "from sklearn.preprocessing import MinMaxScaler\n",
    "scalar = MinMaxScaler(feature_range=(0,1))"
   ]
  },
  {
   "cell_type": "code",
   "execution_count": 18,
   "metadata": {},
   "outputs": [
    {
     "data": {
      "text/html": [
       "<style>#sk-container-id-1 {color: black;background-color: white;}#sk-container-id-1 pre{padding: 0;}#sk-container-id-1 div.sk-toggleable {background-color: white;}#sk-container-id-1 label.sk-toggleable__label {cursor: pointer;display: block;width: 100%;margin-bottom: 0;padding: 0.3em;box-sizing: border-box;text-align: center;}#sk-container-id-1 label.sk-toggleable__label-arrow:before {content: \"▸\";float: left;margin-right: 0.25em;color: #696969;}#sk-container-id-1 label.sk-toggleable__label-arrow:hover:before {color: black;}#sk-container-id-1 div.sk-estimator:hover label.sk-toggleable__label-arrow:before {color: black;}#sk-container-id-1 div.sk-toggleable__content {max-height: 0;max-width: 0;overflow: hidden;text-align: left;background-color: #f0f8ff;}#sk-container-id-1 div.sk-toggleable__content pre {margin: 0.2em;color: black;border-radius: 0.25em;background-color: #f0f8ff;}#sk-container-id-1 input.sk-toggleable__control:checked~div.sk-toggleable__content {max-height: 200px;max-width: 100%;overflow: auto;}#sk-container-id-1 input.sk-toggleable__control:checked~label.sk-toggleable__label-arrow:before {content: \"▾\";}#sk-container-id-1 div.sk-estimator input.sk-toggleable__control:checked~label.sk-toggleable__label {background-color: #d4ebff;}#sk-container-id-1 div.sk-label input.sk-toggleable__control:checked~label.sk-toggleable__label {background-color: #d4ebff;}#sk-container-id-1 input.sk-hidden--visually {border: 0;clip: rect(1px 1px 1px 1px);clip: rect(1px, 1px, 1px, 1px);height: 1px;margin: -1px;overflow: hidden;padding: 0;position: absolute;width: 1px;}#sk-container-id-1 div.sk-estimator {font-family: monospace;background-color: #f0f8ff;border: 1px dotted black;border-radius: 0.25em;box-sizing: border-box;margin-bottom: 0.5em;}#sk-container-id-1 div.sk-estimator:hover {background-color: #d4ebff;}#sk-container-id-1 div.sk-parallel-item::after {content: \"\";width: 100%;border-bottom: 1px solid gray;flex-grow: 1;}#sk-container-id-1 div.sk-label:hover label.sk-toggleable__label {background-color: #d4ebff;}#sk-container-id-1 div.sk-serial::before {content: \"\";position: absolute;border-left: 1px solid gray;box-sizing: border-box;top: 0;bottom: 0;left: 50%;z-index: 0;}#sk-container-id-1 div.sk-serial {display: flex;flex-direction: column;align-items: center;background-color: white;padding-right: 0.2em;padding-left: 0.2em;position: relative;}#sk-container-id-1 div.sk-item {position: relative;z-index: 1;}#sk-container-id-1 div.sk-parallel {display: flex;align-items: stretch;justify-content: center;background-color: white;position: relative;}#sk-container-id-1 div.sk-item::before, #sk-container-id-1 div.sk-parallel-item::before {content: \"\";position: absolute;border-left: 1px solid gray;box-sizing: border-box;top: 0;bottom: 0;left: 50%;z-index: -1;}#sk-container-id-1 div.sk-parallel-item {display: flex;flex-direction: column;z-index: 1;position: relative;background-color: white;}#sk-container-id-1 div.sk-parallel-item:first-child::after {align-self: flex-end;width: 50%;}#sk-container-id-1 div.sk-parallel-item:last-child::after {align-self: flex-start;width: 50%;}#sk-container-id-1 div.sk-parallel-item:only-child::after {width: 0;}#sk-container-id-1 div.sk-dashed-wrapped {border: 1px dashed gray;margin: 0 0.4em 0.5em 0.4em;box-sizing: border-box;padding-bottom: 0.4em;background-color: white;}#sk-container-id-1 div.sk-label label {font-family: monospace;font-weight: bold;display: inline-block;line-height: 1.2em;}#sk-container-id-1 div.sk-label-container {text-align: center;}#sk-container-id-1 div.sk-container {/* jupyter's `normalize.less` sets `[hidden] { display: none; }` but bootstrap.min.css set `[hidden] { display: none !important; }` so we also need the `!important` here to be able to override the default hidden behavior on the sphinx rendered scikit-learn.org. See: https://github.com/scikit-learn/scikit-learn/issues/21755 */display: inline-block !important;position: relative;}#sk-container-id-1 div.sk-text-repr-fallback {display: none;}</style><div id=\"sk-container-id-1\" class=\"sk-top-container\"><div class=\"sk-text-repr-fallback\"><pre>MinMaxScaler()</pre><b>In a Jupyter environment, please rerun this cell to show the HTML representation or trust the notebook. <br />On GitHub, the HTML representation is unable to render, please try loading this page with nbviewer.org.</b></div><div class=\"sk-container\" hidden><div class=\"sk-item\"><div class=\"sk-estimator sk-toggleable\"><input class=\"sk-toggleable__control sk-hidden--visually\" id=\"sk-estimator-id-1\" type=\"checkbox\" checked><label for=\"sk-estimator-id-1\" class=\"sk-toggleable__label sk-toggleable__label-arrow\">MinMaxScaler</label><div class=\"sk-toggleable__content\"><pre>MinMaxScaler()</pre></div></div></div></div></div>"
      ],
      "text/plain": [
       "MinMaxScaler()"
      ]
     },
     "execution_count": 18,
     "metadata": {},
     "output_type": "execute_result"
    }
   ],
   "source": [
    "scalar"
   ]
  },
  {
   "cell_type": "code",
   "execution_count": 19,
   "metadata": {},
   "outputs": [
    {
     "name": "stdout",
     "output_type": "stream",
     "text": [
      "          Close\n",
      "0      1.130179\n",
      "1      1.141786\n",
      "2      1.151786\n",
      "3      1.152679\n",
      "4      1.236607\n",
      "...         ...\n",
      "3191  40.477501\n",
      "3192  40.314999\n",
      "3193  39.657501\n",
      "3194  40.375000\n",
      "3195  40.215000\n",
      "\n",
      "[3196 rows x 1 columns]\n"
     ]
    }
   ],
   "source": [
    "print(data_training)"
   ]
  },
  {
   "cell_type": "code",
   "execution_count": 20,
   "metadata": {},
   "outputs": [
    {
     "data": {
      "text/plain": [
       "array([[0.00000000e+00],\n",
       "       [2.91029488e-04],\n",
       "       [5.41766909e-04],\n",
       "       ...,\n",
       "       [9.66025059e-01],\n",
       "       [9.84015455e-01],\n",
       "       [9.80003656e-01]])"
      ]
     },
     "execution_count": 20,
     "metadata": {},
     "output_type": "execute_result"
    }
   ],
   "source": [
    "data_training_array = scalar.fit_transform(data_training)\n",
    "data_training_array"
   ]
  },
  {
   "cell_type": "code",
   "execution_count": 21,
   "metadata": {},
   "outputs": [
    {
     "data": {
      "text/plain": [
       "(3196, 1)"
      ]
     },
     "execution_count": 21,
     "metadata": {},
     "output_type": "execute_result"
    }
   ],
   "source": [
    "data_training_array.shape"
   ]
  },
  {
   "cell_type": "code",
   "execution_count": 22,
   "metadata": {},
   "outputs": [],
   "source": [
    "x_train = []\n",
    "y_train = []\n",
    "\n",
    "for i in range(100, data_training_array.shape[0]):\n",
    "    x_train.append(data_training_array[i-100: i])\n",
    "    y_train.append(data_training_array[i, 0])\n",
    "\n",
    "x_train, y_train = np.array(x_train), np.array(y_train)    \n"
   ]
  },
  {
   "cell_type": "code",
   "execution_count": 23,
   "metadata": {},
   "outputs": [
    {
     "data": {
      "text/plain": [
       "(3096, 100, 1)"
      ]
     },
     "execution_count": 23,
     "metadata": {},
     "output_type": "execute_result"
    }
   ],
   "source": [
    "x_train.shape"
   ]
  },
  {
   "cell_type": "code",
   "execution_count": 24,
   "metadata": {},
   "outputs": [
    {
     "name": "stderr",
     "output_type": "stream",
     "text": [
      "2023-02-26 14:31:29.752380: I tensorflow/core/platform/cpu_feature_guard.cc:193] This TensorFlow binary is optimized with oneAPI Deep Neural Network Library (oneDNN) to use the following CPU instructions in performance-critical operations:  SSE3 SSE4.1 SSE4.2 AVX AVX2 AVX512F AVX512_VNNI FMA\n",
      "To enable them in other operations, rebuild TensorFlow with the appropriate compiler flags.\n"
     ]
    }
   ],
   "source": [
    "from keras.layers import Dense , Dropout , LSTM\n",
    "from keras.models import Sequential"
   ]
  },
  {
   "cell_type": "code",
   "execution_count": 25,
   "metadata": {},
   "outputs": [],
   "source": [
    "import os\n",
    "os.environ['TF_CPP_MIN_LOG_LEVEL'] = '2'"
   ]
  },
  {
   "cell_type": "code",
   "execution_count": 26,
   "metadata": {},
   "outputs": [],
   "source": [
    "model = Sequential()\n",
    "\n",
    "model.add(LSTM(units=50, activation ='relu', return_sequences = True, input_shape =(x_train.shape[1],1)))\n",
    "model.add(Dropout(0.2))\n",
    "\n",
    "model.add(LSTM(units=60, activation = 'relu', return_sequences = True))\n",
    "model.add(Dropout(0.3))\n",
    "\n",
    "model.add(LSTM(units=80, activation = 'relu', return_sequences = True))\n",
    "model.add(Dropout(0.4))\n",
    "\n",
    "model.add(LSTM(units=120, activation = 'relu', return_sequences = False))\n",
    "model.add(Dropout(0.5))\n",
    "\n",
    "model.add(Dense(units = 1))\n",
    "\n"
   ]
  },
  {
   "cell_type": "code",
   "execution_count": 27,
   "metadata": {},
   "outputs": [
    {
     "name": "stdout",
     "output_type": "stream",
     "text": [
      "Model: \"sequential\"\n",
      "_________________________________________________________________\n",
      " Layer (type)                Output Shape              Param #   \n",
      "=================================================================\n",
      " lstm (LSTM)                 (None, 100, 50)           10400     \n",
      "                                                                 \n",
      " dropout (Dropout)           (None, 100, 50)           0         \n",
      "                                                                 \n",
      " lstm_1 (LSTM)               (None, 100, 60)           26640     \n",
      "                                                                 \n",
      " dropout_1 (Dropout)         (None, 100, 60)           0         \n",
      "                                                                 \n",
      " lstm_2 (LSTM)               (None, 100, 80)           45120     \n",
      "                                                                 \n",
      " dropout_2 (Dropout)         (None, 100, 80)           0         \n",
      "                                                                 \n",
      " lstm_3 (LSTM)               (None, 120)               96480     \n",
      "                                                                 \n",
      " dropout_3 (Dropout)         (None, 120)               0         \n",
      "                                                                 \n",
      " dense (Dense)               (None, 1)                 121       \n",
      "                                                                 \n",
      "=================================================================\n",
      "Total params: 178,761\n",
      "Trainable params: 178,761\n",
      "Non-trainable params: 0\n",
      "_________________________________________________________________\n"
     ]
    }
   ],
   "source": [
    "model.summary()"
   ]
  },
  {
   "cell_type": "code",
   "execution_count": 28,
   "metadata": {},
   "outputs": [
    {
     "name": "stdout",
     "output_type": "stream",
     "text": [
      "Epoch 1/100\n",
      "97/97 [==============================] - 42s 391ms/step - loss: 0.0223\n",
      "Epoch 2/100\n",
      "97/97 [==============================] - 34s 350ms/step - loss: 0.0059\n",
      "Epoch 3/100\n",
      "97/97 [==============================] - 31s 322ms/step - loss: 0.0059\n",
      "Epoch 4/100\n",
      "97/97 [==============================] - 29s 295ms/step - loss: 0.0041\n",
      "Epoch 5/100\n",
      "97/97 [==============================] - 27s 282ms/step - loss: 0.0042\n",
      "Epoch 6/100\n",
      "97/97 [==============================] - 48s 496ms/step - loss: 0.0041\n",
      "Epoch 7/100\n",
      "97/97 [==============================] - 34s 347ms/step - loss: 0.0035\n",
      "Epoch 8/100\n",
      "97/97 [==============================] - 26s 267ms/step - loss: 0.0038\n",
      "Epoch 9/100\n",
      "97/97 [==============================] - 27s 281ms/step - loss: 0.0033\n",
      "Epoch 10/100\n",
      "97/97 [==============================] - 31s 322ms/step - loss: 0.0034\n",
      "Epoch 11/100\n",
      "97/97 [==============================] - 33s 343ms/step - loss: 0.0028\n",
      "Epoch 12/100\n",
      "97/97 [==============================] - 30s 305ms/step - loss: 0.0030\n",
      "Epoch 13/100\n",
      "97/97 [==============================] - 34s 348ms/step - loss: 0.0028\n",
      "Epoch 14/100\n",
      "97/97 [==============================] - 34s 351ms/step - loss: 0.0027\n",
      "Epoch 15/100\n",
      "97/97 [==============================] - 35s 362ms/step - loss: 0.0024\n",
      "Epoch 16/100\n",
      "97/97 [==============================] - 37s 386ms/step - loss: 0.0025\n",
      "Epoch 17/100\n",
      "97/97 [==============================] - 34s 352ms/step - loss: 0.0025\n",
      "Epoch 18/100\n",
      "97/97 [==============================] - 32s 325ms/step - loss: 0.0023\n",
      "Epoch 19/100\n",
      "97/97 [==============================] - 35s 356ms/step - loss: 0.0023\n",
      "Epoch 20/100\n",
      "97/97 [==============================] - 36s 371ms/step - loss: 0.0024\n",
      "Epoch 21/100\n",
      "97/97 [==============================] - 33s 338ms/step - loss: 0.0023\n",
      "Epoch 22/100\n",
      "97/97 [==============================] - 35s 360ms/step - loss: 0.0022\n",
      "Epoch 23/100\n",
      "97/97 [==============================] - 35s 360ms/step - loss: 0.0023\n",
      "Epoch 24/100\n",
      "97/97 [==============================] - 35s 356ms/step - loss: 0.0021\n",
      "Epoch 25/100\n",
      "97/97 [==============================] - 35s 362ms/step - loss: 0.0024\n",
      "Epoch 26/100\n",
      "97/97 [==============================] - 37s 380ms/step - loss: 0.0022\n",
      "Epoch 27/100\n",
      "97/97 [==============================] - 38s 390ms/step - loss: 0.0022\n",
      "Epoch 28/100\n",
      "97/97 [==============================] - 35s 355ms/step - loss: 0.0021\n",
      "Epoch 29/100\n",
      "97/97 [==============================] - 35s 366ms/step - loss: 0.0020\n",
      "Epoch 30/100\n",
      "97/97 [==============================] - 31s 314ms/step - loss: 0.0021\n",
      "Epoch 31/100\n",
      "97/97 [==============================] - 34s 350ms/step - loss: 0.0021\n",
      "Epoch 32/100\n",
      "97/97 [==============================] - 37s 380ms/step - loss: 0.0021\n",
      "Epoch 33/100\n",
      "97/97 [==============================] - 35s 362ms/step - loss: 0.0021\n",
      "Epoch 34/100\n",
      "97/97 [==============================] - 37s 380ms/step - loss: 0.0022\n",
      "Epoch 35/100\n",
      "97/97 [==============================] - 24s 249ms/step - loss: 0.0019\n",
      "Epoch 36/100\n",
      "97/97 [==============================] - 24s 247ms/step - loss: 0.0019\n",
      "Epoch 37/100\n",
      "97/97 [==============================] - 24s 247ms/step - loss: 0.0018\n",
      "Epoch 38/100\n",
      "97/97 [==============================] - 23s 236ms/step - loss: 0.0019\n",
      "Epoch 39/100\n",
      "97/97 [==============================] - 24s 243ms/step - loss: 0.0019\n",
      "Epoch 40/100\n",
      "97/97 [==============================] - 24s 251ms/step - loss: 0.0019\n",
      "Epoch 41/100\n",
      "97/97 [==============================] - 24s 246ms/step - loss: 0.0018\n",
      "Epoch 42/100\n",
      "97/97 [==============================] - 23s 237ms/step - loss: 0.0019\n",
      "Epoch 43/100\n",
      "97/97 [==============================] - 24s 246ms/step - loss: 0.0019\n",
      "Epoch 44/100\n",
      "97/97 [==============================] - 24s 244ms/step - loss: 0.0019\n",
      "Epoch 45/100\n",
      "97/97 [==============================] - 24s 246ms/step - loss: 0.0020\n",
      "Epoch 46/100\n",
      "97/97 [==============================] - 26s 272ms/step - loss: 0.0020\n",
      "Epoch 47/100\n",
      "97/97 [==============================] - 23s 236ms/step - loss: 0.0018\n",
      "Epoch 48/100\n",
      "97/97 [==============================] - 23s 235ms/step - loss: 0.0018\n",
      "Epoch 49/100\n",
      "97/97 [==============================] - 23s 239ms/step - loss: 0.0020\n",
      "Epoch 50/100\n",
      "97/97 [==============================] - 22s 231ms/step - loss: 0.0021\n",
      "Epoch 51/100\n",
      "97/97 [==============================] - 23s 233ms/step - loss: 0.0021\n",
      "Epoch 52/100\n",
      "97/97 [==============================] - 25s 255ms/step - loss: 0.0018\n",
      "Epoch 53/100\n",
      "97/97 [==============================] - 24s 248ms/step - loss: 0.0019\n",
      "Epoch 54/100\n",
      "97/97 [==============================] - 24s 247ms/step - loss: 0.0020\n",
      "Epoch 55/100\n",
      "97/97 [==============================] - 24s 246ms/step - loss: 0.0018\n",
      "Epoch 56/100\n",
      "97/97 [==============================] - 24s 242ms/step - loss: 0.0020\n",
      "Epoch 57/100\n",
      "97/97 [==============================] - 23s 235ms/step - loss: 0.0019\n",
      "Epoch 58/100\n",
      "97/97 [==============================] - 23s 239ms/step - loss: 0.0017\n",
      "Epoch 59/100\n",
      "97/97 [==============================] - 812s 8s/step - loss: 0.0018\n",
      "Epoch 60/100\n",
      "97/97 [==============================] - 36s 366ms/step - loss: 0.0018\n",
      "Epoch 61/100\n",
      "97/97 [==============================] - 36s 370ms/step - loss: 0.0018\n",
      "Epoch 62/100\n",
      "97/97 [==============================] - 35s 364ms/step - loss: 0.0020\n",
      "Epoch 63/100\n",
      "97/97 [==============================] - 35s 360ms/step - loss: 0.0019\n",
      "Epoch 64/100\n",
      "97/97 [==============================] - 40s 409ms/step - loss: 0.0019\n",
      "Epoch 65/100\n",
      "97/97 [==============================] - 43s 448ms/step - loss: 0.0018\n",
      "Epoch 66/100\n",
      "97/97 [==============================] - 60s 620ms/step - loss: 0.0018\n",
      "Epoch 67/100\n",
      "97/97 [==============================] - 55s 564ms/step - loss: 0.0018\n",
      "Epoch 68/100\n",
      "97/97 [==============================] - 52s 533ms/step - loss: 0.0017\n",
      "Epoch 69/100\n",
      "97/97 [==============================] - 58s 592ms/step - loss: 0.0018\n",
      "Epoch 70/100\n",
      "97/97 [==============================] - 60s 622ms/step - loss: 0.0018\n",
      "Epoch 71/100\n",
      "97/97 [==============================] - 55s 565ms/step - loss: 0.0018\n",
      "Epoch 72/100\n",
      "97/97 [==============================] - 57s 588ms/step - loss: 0.0017\n",
      "Epoch 73/100\n",
      "97/97 [==============================] - 42s 428ms/step - loss: 0.0018\n",
      "Epoch 74/100\n",
      "97/97 [==============================] - 62s 642ms/step - loss: 0.0020\n",
      "Epoch 75/100\n",
      "97/97 [==============================] - 59s 603ms/step - loss: 0.0018\n",
      "Epoch 76/100\n",
      "97/97 [==============================] - 57s 587ms/step - loss: 0.0017\n",
      "Epoch 77/100\n",
      "97/97 [==============================] - 59s 610ms/step - loss: 0.0020\n",
      "Epoch 78/100\n",
      "97/97 [==============================] - 60s 620ms/step - loss: 0.0018\n",
      "Epoch 79/100\n",
      "97/97 [==============================] - 58s 592ms/step - loss: 0.0018\n",
      "Epoch 80/100\n",
      "97/97 [==============================] - 56s 571ms/step - loss: 0.0019\n",
      "Epoch 81/100\n",
      "97/97 [==============================] - 60s 612ms/step - loss: 0.0017\n",
      "Epoch 82/100\n",
      "97/97 [==============================] - 60s 613ms/step - loss: 0.0018\n",
      "Epoch 83/100\n",
      "97/97 [==============================] - 60s 620ms/step - loss: 0.0017\n",
      "Epoch 84/100\n",
      "97/97 [==============================] - 58s 594ms/step - loss: 6266.6582\n",
      "Epoch 85/100\n",
      "97/97 [==============================] - 45s 458ms/step - loss: 0.0027\n",
      "Epoch 86/100\n",
      "97/97 [==============================] - 30s 309ms/step - loss: 0.0026\n",
      "Epoch 87/100\n",
      "97/97 [==============================] - 45s 464ms/step - loss: 0.0023\n",
      "Epoch 88/100\n",
      "97/97 [==============================] - 40s 408ms/step - loss: 0.0024\n",
      "Epoch 89/100\n",
      "97/97 [==============================] - 37s 383ms/step - loss: 0.0023\n",
      "Epoch 90/100\n",
      "97/97 [==============================] - 42s 431ms/step - loss: 0.0023\n",
      "Epoch 91/100\n",
      "97/97 [==============================] - 27s 280ms/step - loss: 0.0024\n",
      "Epoch 92/100\n",
      "97/97 [==============================] - 27s 273ms/step - loss: 0.0022\n",
      "Epoch 93/100\n",
      "97/97 [==============================] - 34s 349ms/step - loss: 0.0023\n",
      "Epoch 94/100\n",
      "97/97 [==============================] - 28s 288ms/step - loss: 0.0022\n",
      "Epoch 95/100\n",
      "97/97 [==============================] - 34s 353ms/step - loss: 0.0023\n",
      "Epoch 96/100\n",
      "97/97 [==============================] - 30s 314ms/step - loss: 0.0020\n",
      "Epoch 97/100\n",
      "97/97 [==============================] - 30s 310ms/step - loss: 0.0021\n",
      "Epoch 98/100\n",
      "97/97 [==============================] - 32s 332ms/step - loss: 0.0021\n",
      "Epoch 99/100\n",
      "97/97 [==============================] - 26s 263ms/step - loss: 0.0021\n",
      "Epoch 100/100\n",
      "97/97 [==============================] - 34s 350ms/step - loss: 0.0022\n"
     ]
    },
    {
     "data": {
      "text/plain": [
       "<keras.callbacks.History at 0x7efbf075e4d0>"
      ]
     },
     "execution_count": 28,
     "metadata": {},
     "output_type": "execute_result"
    }
   ],
   "source": [
    "model.compile(optimizer='adam',loss=\"mean_squared_error\")\n",
    "model.fit(x_train, y_train, epochs = 100)"
   ]
  },
  {
   "cell_type": "code",
   "execution_count": 29,
   "metadata": {},
   "outputs": [],
   "source": [
    "model.save('keras_model.h5')"
   ]
  },
  {
   "cell_type": "code",
   "execution_count": 30,
   "metadata": {},
   "outputs": [
    {
     "data": {
      "text/html": [
       "<div>\n",
       "<style scoped>\n",
       "    .dataframe tbody tr th:only-of-type {\n",
       "        vertical-align: middle;\n",
       "    }\n",
       "\n",
       "    .dataframe tbody tr th {\n",
       "        vertical-align: top;\n",
       "    }\n",
       "\n",
       "    .dataframe thead th {\n",
       "        text-align: right;\n",
       "    }\n",
       "</style>\n",
       "<table border=\"1\" class=\"dataframe\">\n",
       "  <thead>\n",
       "    <tr style=\"text-align: right;\">\n",
       "      <th></th>\n",
       "      <th>Close</th>\n",
       "    </tr>\n",
       "  </thead>\n",
       "  <tbody>\n",
       "    <tr>\n",
       "      <th>3196</th>\n",
       "      <td>39.912498</td>\n",
       "    </tr>\n",
       "    <tr>\n",
       "      <th>3197</th>\n",
       "      <td>39.570000</td>\n",
       "    </tr>\n",
       "    <tr>\n",
       "      <th>3198</th>\n",
       "      <td>39.970001</td>\n",
       "    </tr>\n",
       "    <tr>\n",
       "      <th>3199</th>\n",
       "      <td>39.667500</td>\n",
       "    </tr>\n",
       "    <tr>\n",
       "      <th>3200</th>\n",
       "      <td>39.682499</td>\n",
       "    </tr>\n",
       "  </tbody>\n",
       "</table>\n",
       "</div>"
      ],
      "text/plain": [
       "          Close\n",
       "3196  39.912498\n",
       "3197  39.570000\n",
       "3198  39.970001\n",
       "3199  39.667500\n",
       "3200  39.682499"
      ]
     },
     "execution_count": 30,
     "metadata": {},
     "output_type": "execute_result"
    }
   ],
   "source": [
    "data_testing.head()"
   ]
  },
  {
   "cell_type": "code",
   "execution_count": 31,
   "metadata": {},
   "outputs": [
    {
     "data": {
      "text/html": [
       "<div>\n",
       "<style scoped>\n",
       "    .dataframe tbody tr th:only-of-type {\n",
       "        vertical-align: middle;\n",
       "    }\n",
       "\n",
       "    .dataframe tbody tr th {\n",
       "        vertical-align: top;\n",
       "    }\n",
       "\n",
       "    .dataframe thead th {\n",
       "        text-align: right;\n",
       "    }\n",
       "</style>\n",
       "<table border=\"1\" class=\"dataframe\">\n",
       "  <thead>\n",
       "    <tr style=\"text-align: right;\">\n",
       "      <th></th>\n",
       "      <th>Close</th>\n",
       "    </tr>\n",
       "  </thead>\n",
       "  <tbody>\n",
       "    <tr>\n",
       "      <th>3096</th>\n",
       "      <td>35.567501</td>\n",
       "    </tr>\n",
       "    <tr>\n",
       "      <th>3097</th>\n",
       "      <td>35.910000</td>\n",
       "    </tr>\n",
       "    <tr>\n",
       "      <th>3098</th>\n",
       "      <td>36.132500</td>\n",
       "    </tr>\n",
       "    <tr>\n",
       "      <th>3099</th>\n",
       "      <td>35.919998</td>\n",
       "    </tr>\n",
       "    <tr>\n",
       "      <th>3100</th>\n",
       "      <td>35.947498</td>\n",
       "    </tr>\n",
       "    <tr>\n",
       "      <th>...</th>\n",
       "      <td>...</td>\n",
       "    </tr>\n",
       "    <tr>\n",
       "      <th>3191</th>\n",
       "      <td>40.477501</td>\n",
       "    </tr>\n",
       "    <tr>\n",
       "      <th>3192</th>\n",
       "      <td>40.314999</td>\n",
       "    </tr>\n",
       "    <tr>\n",
       "      <th>3193</th>\n",
       "      <td>39.657501</td>\n",
       "    </tr>\n",
       "    <tr>\n",
       "      <th>3194</th>\n",
       "      <td>40.375000</td>\n",
       "    </tr>\n",
       "    <tr>\n",
       "      <th>3195</th>\n",
       "      <td>40.215000</td>\n",
       "    </tr>\n",
       "  </tbody>\n",
       "</table>\n",
       "<p>100 rows × 1 columns</p>\n",
       "</div>"
      ],
      "text/plain": [
       "          Close\n",
       "3096  35.567501\n",
       "3097  35.910000\n",
       "3098  36.132500\n",
       "3099  35.919998\n",
       "3100  35.947498\n",
       "...         ...\n",
       "3191  40.477501\n",
       "3192  40.314999\n",
       "3193  39.657501\n",
       "3194  40.375000\n",
       "3195  40.215000\n",
       "\n",
       "[100 rows x 1 columns]"
      ]
     },
     "execution_count": 31,
     "metadata": {},
     "output_type": "execute_result"
    }
   ],
   "source": [
    "data_training.tail(100)"
   ]
  },
  {
   "cell_type": "code",
   "execution_count": 32,
   "metadata": {},
   "outputs": [],
   "source": [
    "past_100_days = data_training.tail(100)"
   ]
  },
  {
   "cell_type": "code",
   "execution_count": 33,
   "metadata": {},
   "outputs": [
    {
     "name": "stderr",
     "output_type": "stream",
     "text": [
      "/tmp/ipykernel_2842/1416317959.py:1: FutureWarning: The frame.append method is deprecated and will be removed from pandas in a future version. Use pandas.concat instead.\n",
      "  final_df = past_100_days.append(data_testing, ignore_index=True)\n"
     ]
    }
   ],
   "source": [
    "final_df = past_100_days.append(data_testing, ignore_index=True)\n"
   ]
  },
  {
   "cell_type": "code",
   "execution_count": 34,
   "metadata": {},
   "outputs": [
    {
     "data": {
      "text/html": [
       "<div>\n",
       "<style scoped>\n",
       "    .dataframe tbody tr th:only-of-type {\n",
       "        vertical-align: middle;\n",
       "    }\n",
       "\n",
       "    .dataframe tbody tr th {\n",
       "        vertical-align: top;\n",
       "    }\n",
       "\n",
       "    .dataframe thead th {\n",
       "        text-align: right;\n",
       "    }\n",
       "</style>\n",
       "<table border=\"1\" class=\"dataframe\">\n",
       "  <thead>\n",
       "    <tr style=\"text-align: right;\">\n",
       "      <th></th>\n",
       "      <th>Close</th>\n",
       "    </tr>\n",
       "  </thead>\n",
       "  <tbody>\n",
       "    <tr>\n",
       "      <th>0</th>\n",
       "      <td>35.567501</td>\n",
       "    </tr>\n",
       "    <tr>\n",
       "      <th>1</th>\n",
       "      <td>35.910000</td>\n",
       "    </tr>\n",
       "    <tr>\n",
       "      <th>2</th>\n",
       "      <td>36.132500</td>\n",
       "    </tr>\n",
       "    <tr>\n",
       "      <th>3</th>\n",
       "      <td>35.919998</td>\n",
       "    </tr>\n",
       "    <tr>\n",
       "      <th>4</th>\n",
       "      <td>35.947498</td>\n",
       "    </tr>\n",
       "  </tbody>\n",
       "</table>\n",
       "</div>"
      ],
      "text/plain": [
       "       Close\n",
       "0  35.567501\n",
       "1  35.910000\n",
       "2  36.132500\n",
       "3  35.919998\n",
       "4  35.947498"
      ]
     },
     "execution_count": 34,
     "metadata": {},
     "output_type": "execute_result"
    }
   ],
   "source": [
    "final_df.head()"
   ]
  },
  {
   "cell_type": "code",
   "execution_count": 35,
   "metadata": {},
   "outputs": [
    {
     "data": {
      "text/plain": [
       "array([[1.36556857e-04],\n",
       "       [2.47503117e-03],\n",
       "       [3.99419038e-03],\n",
       "       ...,\n",
       "       [7.71067678e-01],\n",
       "       [7.74003638e-01],\n",
       "       [7.77349137e-01]])"
      ]
     },
     "execution_count": 35,
     "metadata": {},
     "output_type": "execute_result"
    }
   ],
   "source": [
    "input_data = scalar.fit_transform(final_df)\n",
    "input_data"
   ]
  },
  {
   "cell_type": "code",
   "execution_count": 36,
   "metadata": {},
   "outputs": [
    {
     "data": {
      "text/plain": [
       "(1471, 1)"
      ]
     },
     "execution_count": 36,
     "metadata": {},
     "output_type": "execute_result"
    }
   ],
   "source": [
    "input_data.shape"
   ]
  },
  {
   "cell_type": "code",
   "execution_count": 37,
   "metadata": {},
   "outputs": [],
   "source": [
    "x_test = []\n",
    "y_test = []\n",
    "\n",
    "for i in range(100, input_data.shape[0]):\n",
    "    x_test.append(input_data[i-100: i])\n",
    "    y_test.append(input_data[i,0])\n"
   ]
  },
  {
   "cell_type": "code",
   "execution_count": 38,
   "metadata": {},
   "outputs": [
    {
     "name": "stdout",
     "output_type": "stream",
     "text": [
      "(1371, 100, 1)\n",
      "(1371,)\n"
     ]
    }
   ],
   "source": [
    "x_test, y_test = np.array(x_test), np.array(y_test)\n",
    "print(x_test.shape)\n",
    "print(y_test.shape)"
   ]
  },
  {
   "cell_type": "code",
   "execution_count": 39,
   "metadata": {},
   "outputs": [
    {
     "name": "stdout",
     "output_type": "stream",
     "text": [
      "43/43 [==============================] - 5s 118ms/step\n"
     ]
    }
   ],
   "source": [
    "# Prediction\n",
    "\n",
    "y_predicted = model.predict(x_test)"
   ]
  },
  {
   "cell_type": "code",
   "execution_count": 40,
   "metadata": {},
   "outputs": [
    {
     "data": {
      "text/plain": [
       "(1371, 1)"
      ]
     },
     "execution_count": 40,
     "metadata": {},
     "output_type": "execute_result"
    }
   ],
   "source": [
    "y_predicted.shape"
   ]
  },
  {
   "cell_type": "code",
   "execution_count": 41,
   "metadata": {},
   "outputs": [
    {
     "data": {
      "text/plain": [
       "array([0.02980284, 0.02746436, 0.03019545, ..., 0.77106768, 0.77400364,\n",
       "       0.77734914])"
      ]
     },
     "execution_count": 41,
     "metadata": {},
     "output_type": "execute_result"
    }
   ],
   "source": [
    "y_test"
   ]
  },
  {
   "cell_type": "code",
   "execution_count": 42,
   "metadata": {},
   "outputs": [
    {
     "data": {
      "text/plain": [
       "array([[0.05505893],\n",
       "       [0.05531406],\n",
       "       [0.05548421],\n",
       "       ...,\n",
       "       [0.6923152 ],\n",
       "       [0.69593614],\n",
       "       [0.69874954]], dtype=float32)"
      ]
     },
     "execution_count": 42,
     "metadata": {},
     "output_type": "execute_result"
    }
   ],
   "source": [
    "y_predicted"
   ]
  },
  {
   "cell_type": "code",
   "execution_count": 43,
   "metadata": {},
   "outputs": [
    {
     "data": {
      "text/plain": [
       "array([0.00682769])"
      ]
     },
     "execution_count": 43,
     "metadata": {},
     "output_type": "execute_result"
    }
   ],
   "source": [
    "scalar.scale_"
   ]
  },
  {
   "cell_type": "code",
   "execution_count": 44,
   "metadata": {},
   "outputs": [],
   "source": [
    "scale_factor = 1/0.02099517\n",
    "y_predicted = y_predicted*scale_factor\n",
    "y_test = y_test*scale_factor"
   ]
  },
  {
   "cell_type": "code",
   "execution_count": 45,
   "metadata": {},
   "outputs": [
    {
     "data": {
      "image/png": "[encoded data removed]",
      "text/plain": [
       "<Figure size 1200x600 with 1 Axes>"
      ]
     },
     "metadata": {},
     "output_type": "display_data"
    }
   ],
   "source": [
    "plt.figure(figsize=(12,6))\n",
    "plt.plot(y_test, 'b', label = 'Original Price')\n",
    "plt.plot(y_predicted, 'r', label = 'Predicted Price')\n",
    "plt.xlabel('Time')\n",
    "plt.ylabel('Price')\n",
    "plt.legend()\n",
    "plt.show()"
   ]
  }
 ],
 "metadata": {
  "kernelspec": {
   "display_name": "Python 3.10.8 64-bit",
   "language": "python",
   "name": "python3"
  },
  "language_info": {
   "codemirror_mode": {
    "name": "ipython",
    "version": 3
   },
   "file_extension": ".py",
   "mimetype": "text/x-python",
   "name": "python",
   "nbconvert_exporter": "python",
   "pygments_lexer": "ipython3",
   "version": "3.10.9"
  },
  "orig_nbformat": 4,
  "vscode": {
   "interpreter": {
    "hash": "e7370f93d1d0cde622a1f8e1c04877d8463912d04d973331ad4851f04de6915a"
   }
  }
 },
 "nbformat": 4,
 "nbformat_minor": 2
}
